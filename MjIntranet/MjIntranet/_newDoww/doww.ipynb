{
 "cells": [
  {
   "cell_type": "code",
   "execution_count": 9,
   "metadata": {},
   "outputs": [
    {
     "data": {
      "text/plain": [
       "mainSection.models.Member"
      ]
     },
     "execution_count": 9,
     "metadata": {},
     "output_type": "execute_result"
    }
   ],
   "source": [
    "Member"
   ]
  },
  {
   "cell_type": "code",
   "execution_count": 10,
   "metadata": {},
   "outputs": [
    {
     "data": {
      "text/plain": [
       "<QuerySet [<Member: Member object>, <Member: Member object>, <Member: Member object>, <Member: Member object>]>"
      ]
     },
     "execution_count": 10,
     "metadata": {},
     "output_type": "execute_result"
    }
   ],
   "source": [
    "Member.objects.all()"
   ]
  },
  {
   "cell_type": "code",
   "execution_count": 11,
   "metadata": {},
   "outputs": [
    {
     "data": {
      "text/plain": [
       "django.db.models.query.QuerySet"
      ]
     },
     "execution_count": 11,
     "metadata": {},
     "output_type": "execute_result"
    }
   ],
   "source": [
    "Member.objects.all().__class__"
   ]
  },
  {
   "cell_type": "code",
   "execution_count": 12,
   "metadata": {},
   "outputs": [
    {
     "data": {
      "text/plain": [
       "{'sql': 'SELECT \"mainSection_member\".\"id\", \"mainSection_member\".\"author\", \"mainSection_member\".\"title\", \"mainSection_member\".\"contents\", \"mainSection_member\".\"select\", \"mainSection_member\".\"created_date\", \"mainSection_member\".\"updated_date\" FROM \"mainSection_member\" LIMIT 21',\n",
       " 'time': '0.000'}"
      ]
     },
     "execution_count": 12,
     "metadata": {},
     "output_type": "execute_result"
    }
   ],
   "source": [
    "connection.queries[-1]"
   ]
  },
  {
   "cell_type": "code",
   "execution_count": 13,
   "metadata": {},
   "outputs": [
    {
     "data": {
      "text/plain": [
       "{'sql': 'SELECT \"mainSection_member\".\"id\", \"mainSection_member\".\"author\", \"mainSection_member\".\"title\", \"mainSection_member\".\"contents\", \"mainSection_member\".\"select\", \"mainSection_member\".\"created_date\", \"mainSection_member\".\"updated_date\" FROM \"mainSection_member\" LIMIT 21',\n",
       " 'time': '0.000'}"
      ]
     },
     "execution_count": 13,
     "metadata": {},
     "output_type": "execute_result"
    }
   ],
   "source": [
    "from django.db import connection\n",
    "connection.queries[-1]"
   ]
  },
  {
   "cell_type": "code",
   "execution_count": 14,
   "metadata": {},
   "outputs": [
    {
     "data": {
      "text/plain": [
       "<Member: Member object>"
      ]
     },
     "execution_count": 14,
     "metadata": {},
     "output_type": "execute_result"
    }
   ],
   "source": [
    "Member.objects.create(author=\"상철\", title=\"SQL테스트\", contents = \"컨텐츠를 생성 중입니다.\")"
   ]
  },
  {
   "cell_type": "code",
   "execution_count": 15,
   "metadata": {},
   "outputs": [
    {
     "data": {
      "text/plain": [
       "<QuerySet [<Member: Member object>, <Member: Member object>]>"
      ]
     },
     "execution_count": 15,
     "metadata": {},
     "output_type": "execute_result"
    }
   ],
   "source": [
    "Member.objects.all().filter(title__icontains = \"SQL테스트\")"
   ]
  },
  {
   "cell_type": "code",
   "execution_count": 16,
   "metadata": {},
   "outputs": [
    {
     "data": {
      "text/plain": [
       "<QuerySet [<Member: Member object>, <Member: Member object>]>"
      ]
     },
     "execution_count": 16,
     "metadata": {},
     "output_type": "execute_result"
    }
   ],
   "source": [
    "Member.objects.all().filter(title__icontains = \"SQL테스트\")"
   ]
  },
  {
   "cell_type": "code",
   "execution_count": 17,
   "metadata": {},
   "outputs": [
    {
     "data": {
      "text/plain": [
       "<QuerySet [<Member: Member object>, <Member: Member object>]>"
      ]
     },
     "execution_count": 17,
     "metadata": {},
     "output_type": "execute_result"
    }
   ],
   "source": [
    " Member.objects.all().filter(title__icontains = \"SQL테스트\")"
   ]
  },
  {
   "cell_type": "code",
   "execution_count": 1,
   "metadata": {},
   "outputs": [
    {
     "data": {
      "text/plain": [
       "<QuerySet [<Member: SQL테스트>, <Member: SQL테스트>]>"
      ]
     },
     "execution_count": 1,
     "metadata": {},
     "output_type": "execute_result"
    }
   ],
   "source": [
    "Member.objects.all().filter(title__icontains = \"SQL테스트\")"
   ]
  },
  {
   "cell_type": "code",
   "execution_count": 2,
   "metadata": {},
   "outputs": [],
   "source": [
    "import random"
   ]
  },
  {
   "cell_type": "code",
   "execution_count": 3,
   "metadata": {},
   "outputs": [],
   "source": [
    "for i in range(500):\n",
    "    select = random.choice(['제이쿼리','자스','장고'])\n",
    "    Member.objects.create(author=\"shawn\", title=\"가짜 DB {}\".format(i), contents = \"나와라 컨텐츠야{}\".format(i), select = select)"
   ]
  },
  {
   "cell_type": "code",
   "execution_count": 4,
   "metadata": {},
   "outputs": [
    {
     "data": {
      "text/plain": [
       "<QuerySet [<Member: 곡물박사 국내산 검은콩 통 미숫가루>, <Member: 오리온 초코칩 초코파이 정>, <Member: 오리온 딸기 후레쉬베리 12개입>, <Member: SQL테스트>, <Member: SQL테스트>, <Member: 가짜 DB 0>, <Member: 가짜 DB 1>, <Member: 가짜 DB 2>, <Member: 가짜 DB 3>, <Member: 가짜 DB 4>, <Member: 가짜 DB 5>, <Member: 가짜 DB 6>, <Member: 가짜 DB 7>, <Member: 가짜 DB 8>, <Member: 가짜 DB 9>, <Member: 가짜 DB 10>, <Member: 가짜 DB 11>, <Member: 가짜 DB 12>, <Member: 가짜 DB 13>, <Member: 가짜 DB 14>, '...(remaining elements truncated)...']>"
      ]
     },
     "execution_count": 4,
     "metadata": {},
     "output_type": "execute_result"
    }
   ],
   "source": [
    "Member.objects.all()"
   ]
  },
  {
   "cell_type": "code",
   "execution_count": 5,
   "metadata": {},
   "outputs": [
    {
     "data": {
      "text/plain": [
       "505"
      ]
     },
     "execution_count": 5,
     "metadata": {},
     "output_type": "execute_result"
    }
   ],
   "source": [
    "Member.objects.all().count()"
   ]
  },
  {
   "cell_type": "code",
   "execution_count": null,
   "metadata": {},
   "outputs": [],
   "source": []
  }
 ],
 "metadata": {
  "kernelspec": {
   "display_name": "Django Shell-Plus",
   "language": "python",
   "name": "django_extensions"
  },
  "language_info": {
   "codemirror_mode": {
    "name": "ipython",
    "version": 3
   },
   "file_extension": ".py",
   "mimetype": "text/x-python",
   "name": "python",
   "nbconvert_exporter": "python",
   "pygments_lexer": "ipython3",
   "version": "3.6.3"
  }
 },
 "nbformat": 4,
 "nbformat_minor": 2
}
